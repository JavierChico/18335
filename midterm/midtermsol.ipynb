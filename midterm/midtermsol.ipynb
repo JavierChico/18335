{
 "cells": [
  {
   "cell_type": "markdown",
   "metadata": {},
   "source": [
    "### Problem 2, part (d) numerical experiments\n",
    "\n",
    "Let's do some experiments with random matrices to investigate the \"average case\" loss of orthogonality when CholsekyQR is applied to ill-conditioned matrices. Here is our ill-conditioned matrix with condition number $\\kappa(X)$.\n",
    "\n"
   ]
  },
  {
   "cell_type": "code",
   "execution_count": 1,
   "metadata": {},
   "outputs": [
    {
     "data": {
      "text/plain": [
       "999999.9999993553"
      ]
     },
     "execution_count": 1,
     "metadata": {},
     "output_type": "execute_result"
    }
   ],
   "source": [
    "using LinearAlgebra\n",
    "using Plots\n",
    "\n",
    "\n",
    "function randMat(m, n, kap)\n",
    "    m = Int(m)          # number of rows\n",
    "    n = Int(n)          # number of columns\n",
    "    QR1 = qr(randn(m,n))\n",
    "    QR2 = qr(randn(n,n))\n",
    "    return QR1.Q * diagm(10 .^ (range(0,stop = log10(kap), length = n))) * QR2.Q\n",
    "end \n",
    "\n",
    "X = randMat(1e4, 100, 1e6)\n",
    "cond(X)"
   ]
  },
  {
   "cell_type": "markdown",
   "metadata": {},
   "source": [
    "We'll run our Cholesky QR on a rage of random matrices with condition numbers between 1 and $\\kappa_{max}$, and see how the loss of orthogonality scales. We'll also check the residual $\\|X - \\hat Q\\hat R\\|$ of the computed factorization."
   ]
  },
  {
   "cell_type": "code",
   "execution_count": 2,
   "metadata": {},
   "outputs": [],
   "source": [
    "\n",
    "function choleskyQR( X )\n",
    "    A = X' * X\n",
    "    F = cholesky(A)\n",
    "    R = F.U\n",
    "    Q = X / R\n",
    "\n",
    "    return (Q, R)\n",
    "end\n",
    "\n",
    "m = 1e4\n",
    "n = 100\n",
    "kap_max = 1e8\n",
    "kap = 10 .^ (range(0, stop = log10(kap_max), length = n))\n",
    "errs = zeros(length(kap))\n",
    "res = zeros(length(kap))\n",
    "for k = 1:length(kap)\n",
    "    X = randMat(m, n, kap[k])\n",
    "    Q, R = choleskyQR( X )\n",
    "    errs[k] = norm(I - Q' * Q)\n",
    "    res[k] = norm(X - Q*R)\n",
    "end"
   ]
  },
  {
   "cell_type": "markdown",
   "metadata": {},
   "source": [
    "Here's the plots in a separate cell, since the above code takes a few seconds to run every time."
   ]
  },
  {
   "cell_type": "code",
   "execution_count": 3,
   "metadata": {},
   "outputs": [
    {
     "data": {
      "image/svg+xml": "<?xml version=\"1.0\" encoding=\"utf-8\"?>\n<svg xmlns=\"http://www.w3.org/2000/svg\" xmlns:xlink=\"http://www.w3.org/1999/xlink\" width=\"600\" height=\"400\" viewBox=\"0 0 2400 1600\">\n<defs>\n  <clipPath id=\"clip720\">\n    <rect x=\"0\" y=\"0\" width=\"2400\" height=\"1600\"/>\n  </clipPath>\n</defs>\n<path clip-path=\"url(#clip720)\" d=\"\nM0 1600 L2400 1600 L2400 0 L0 0  Z\n  \" fill=\"#ffffff\" fill-rule=\"evenodd\" fill-opacity=\"1\"/>\n<defs>\n  <clipPath id=\"clip721\">\n    <rect x=\"480\" y=\"0\" width=\"1681\" height=\"1600\"/>\n  </clipPath>\n</defs>\n<path clip-path=\"url(#clip720)\" d=\"\nM178.867 1486.45 L2352.76 1486.45 L2352.76 47.2441 L178.867 47.2441  Z\n  \" fill=\"#ffffff\" fill-rule=\"evenodd\" fill-opacity=\"1\"/>\n<defs>\n  <clipPath id=\"clip722\">\n    <rect x=\"178\" y=\"47\" width=\"2175\" height=\"1440\"/>\n  </clipPath>\n</defs>\n<polyline clip-path=\"url(#clip722)\" style=\"stroke:#000000; stroke-linecap:butt; stroke-linejoin:round; stroke-width:2; stroke-opacity:0.1; fill:none\" points=\"\n  240.392,1486.45 240.392,47.2441 \n  \"/>\n<polyline clip-path=\"url(#clip722)\" style=\"stroke:#000000; stroke-linecap:butt; stroke-linejoin:round; stroke-width:2; stroke-opacity:0.1; fill:none\" points=\"\n  753.102,1486.45 753.102,47.2441 \n  \"/>\n<polyline clip-path=\"url(#clip722)\" style=\"stroke:#000000; stroke-linecap:butt; stroke-linejoin:round; stroke-width:2; stroke-opacity:0.1; fill:none\" points=\"\n  1265.81,1486.45 1265.81,47.2441 \n  \"/>\n<polyline clip-path=\"url(#clip722)\" style=\"stroke:#000000; stroke-linecap:butt; stroke-linejoin:round; stroke-width:2; stroke-opacity:0.1; fill:none\" points=\"\n  1778.52,1486.45 1778.52,47.2441 \n  \"/>\n<polyline clip-path=\"url(#clip722)\" style=\"stroke:#000000; stroke-linecap:butt; stroke-linejoin:round; stroke-width:2; stroke-opacity:0.1; fill:none\" points=\"\n  2291.23,1486.45 2291.23,47.2441 \n  \"/>\n<polyline clip-path=\"url(#clip720)\" style=\"stroke:#000000; stroke-linecap:butt; stroke-linejoin:round; stroke-width:4; stroke-opacity:1; fill:none\" points=\"\n  178.867,1486.45 2352.76,1486.45 \n  \"/>\n<polyline clip-path=\"url(#clip720)\" style=\"stroke:#000000; stroke-linecap:butt; stroke-linejoin:round; stroke-width:4; stroke-opacity:1; fill:none\" points=\"\n  240.392,1486.45 240.392,1467.55 \n  \"/>\n<polyline clip-path=\"url(#clip720)\" style=\"stroke:#000000; stroke-linecap:butt; stroke-linejoin:round; stroke-width:4; stroke-opacity:1; fill:none\" points=\"\n  753.102,1486.45 753.102,1467.55 \n  \"/>\n<polyline clip-path=\"url(#clip720)\" style=\"stroke:#000000; stroke-linecap:butt; stroke-linejoin:round; stroke-width:4; stroke-opacity:1; fill:none\" points=\"\n  1265.81,1486.45 1265.81,1467.55 \n  \"/>\n<polyline clip-path=\"url(#clip720)\" style=\"stroke:#000000; stroke-linecap:butt; stroke-linejoin:round; stroke-width:4; stroke-opacity:1; fill:none\" points=\"\n  1778.52,1486.45 1778.52,1467.55 \n  \"/>\n<polyline clip-path=\"url(#clip720)\" style=\"stroke:#000000; stroke-linecap:butt; stroke-linejoin:round; stroke-width:4; stroke-opacity:1; fill:none\" points=\"\n  2291.23,1486.45 2291.23,1467.55 \n  \"/>\n<path clip-path=\"url(#clip720)\" d=\"M240.392 1517.37 Q236.781 1517.37 234.952 1520.93 Q233.146 1524.47 233.146 1531.6 Q233.146 1538.71 234.952 1542.27 Q236.781 1545.82 240.392 1545.82 Q244.026 1545.82 245.832 1542.27 Q247.66 1538.71 247.66 1531.6 Q247.66 1524.47 245.832 1520.93 Q244.026 1517.37 240.392 1517.37 M240.392 1513.66 Q246.202 1513.66 249.257 1518.27 Q252.336 1522.85 252.336 1531.6 Q252.336 1540.33 249.257 1544.94 Q246.202 1549.52 240.392 1549.52 Q234.582 1549.52 231.503 1544.94 Q228.447 1540.33 228.447 1531.6 Q228.447 1522.85 231.503 1518.27 Q234.582 1513.66 240.392 1513.66 Z\" fill=\"#000000\" fill-rule=\"evenodd\" fill-opacity=\"1\" /><path clip-path=\"url(#clip720)\" d=\"M747.754 1544.91 L764.074 1544.91 L764.074 1548.85 L742.129 1548.85 L742.129 1544.91 Q744.791 1542.16 749.375 1537.53 Q753.981 1532.88 755.162 1531.53 Q757.407 1529.01 758.287 1527.27 Q759.189 1525.51 759.189 1523.82 Q759.189 1521.07 757.245 1519.33 Q755.324 1517.6 752.222 1517.6 Q750.023 1517.6 747.569 1518.36 Q745.139 1519.13 742.361 1520.68 L742.361 1515.95 Q745.185 1514.82 747.639 1514.24 Q750.092 1513.66 752.129 1513.66 Q757.5 1513.66 760.694 1516.35 Q763.889 1519.03 763.889 1523.52 Q763.889 1525.65 763.078 1527.57 Q762.291 1529.47 760.185 1532.07 Q759.606 1532.74 756.504 1535.95 Q753.402 1539.15 747.754 1544.91 Z\" fill=\"#000000\" fill-rule=\"evenodd\" fill-opacity=\"1\" /><path clip-path=\"url(#clip720)\" d=\"M1268.82 1518.36 L1257.02 1536.81 L1268.82 1536.81 L1268.82 1518.36 M1267.59 1514.29 L1273.47 1514.29 L1273.47 1536.81 L1278.4 1536.81 L1278.4 1540.7 L1273.47 1540.7 L1273.47 1548.85 L1268.82 1548.85 L1268.82 1540.7 L1253.22 1540.7 L1253.22 1536.19 L1267.59 1514.29 Z\" fill=\"#000000\" fill-rule=\"evenodd\" fill-opacity=\"1\" /><path clip-path=\"url(#clip720)\" d=\"M1778.93 1529.7 Q1775.78 1529.7 1773.93 1531.86 Q1772.1 1534.01 1772.1 1537.76 Q1772.1 1541.49 1773.93 1543.66 Q1775.78 1545.82 1778.93 1545.82 Q1782.07 1545.82 1783.9 1543.66 Q1785.75 1541.49 1785.75 1537.76 Q1785.75 1534.01 1783.9 1531.86 Q1782.07 1529.7 1778.93 1529.7 M1788.21 1515.05 L1788.21 1519.31 Q1786.45 1518.48 1784.64 1518.04 Q1782.86 1517.6 1781.1 1517.6 Q1776.47 1517.6 1774.02 1520.72 Q1771.59 1523.85 1771.24 1530.17 Q1772.61 1528.15 1774.67 1527.09 Q1776.73 1526 1779.2 1526 Q1784.41 1526 1787.42 1529.17 Q1790.45 1532.32 1790.45 1537.76 Q1790.45 1543.08 1787.31 1546.3 Q1784.16 1549.52 1778.93 1549.52 Q1772.93 1549.52 1769.76 1544.94 Q1766.59 1540.33 1766.59 1531.6 Q1766.59 1523.41 1770.48 1518.55 Q1774.37 1513.66 1780.92 1513.66 Q1782.68 1513.66 1784.46 1514.01 Q1786.26 1514.36 1788.21 1515.05 Z\" fill=\"#000000\" fill-rule=\"evenodd\" fill-opacity=\"1\" /><path clip-path=\"url(#clip720)\" d=\"M2291.23 1532.44 Q2287.9 1532.44 2285.98 1534.22 Q2284.08 1536 2284.08 1539.13 Q2284.08 1542.25 2285.98 1544.03 Q2287.9 1545.82 2291.23 1545.82 Q2294.56 1545.82 2296.49 1544.03 Q2298.41 1542.23 2298.41 1539.13 Q2298.41 1536 2296.49 1534.22 Q2294.59 1532.44 2291.23 1532.44 M2286.55 1530.45 Q2283.55 1529.7 2281.86 1527.64 Q2280.19 1525.58 2280.19 1522.62 Q2280.19 1518.48 2283.13 1516.07 Q2286.09 1513.66 2291.23 1513.66 Q2296.39 1513.66 2299.33 1516.07 Q2302.27 1518.48 2302.27 1522.62 Q2302.27 1525.58 2300.58 1527.64 Q2298.92 1529.7 2295.93 1530.45 Q2299.31 1531.23 2301.18 1533.52 Q2303.08 1535.82 2303.08 1539.13 Q2303.08 1544.15 2300 1546.83 Q2296.95 1549.52 2291.23 1549.52 Q2285.51 1549.52 2282.43 1546.83 Q2279.38 1544.15 2279.38 1539.13 Q2279.38 1535.82 2281.28 1533.52 Q2283.18 1531.23 2286.55 1530.45 M2284.84 1523.06 Q2284.84 1525.75 2286.51 1527.25 Q2288.2 1528.76 2291.23 1528.76 Q2294.24 1528.76 2295.93 1527.25 Q2297.64 1525.75 2297.64 1523.06 Q2297.64 1520.38 2295.93 1518.87 Q2294.24 1517.37 2291.23 1517.37 Q2288.2 1517.37 2286.51 1518.87 Q2284.84 1520.38 2284.84 1523.06 Z\" fill=\"#000000\" fill-rule=\"evenodd\" fill-opacity=\"1\" /><polyline clip-path=\"url(#clip722)\" style=\"stroke:#000000; stroke-linecap:butt; stroke-linejoin:round; stroke-width:2; stroke-opacity:0.1; fill:none\" points=\"\n  178.867,1441.23 2352.76,1441.23 \n  \"/>\n<polyline clip-path=\"url(#clip722)\" style=\"stroke:#000000; stroke-linecap:butt; stroke-linejoin:round; stroke-width:2; stroke-opacity:0.1; fill:none\" points=\"\n  178.867,1018.34 2352.76,1018.34 \n  \"/>\n<polyline clip-path=\"url(#clip722)\" style=\"stroke:#000000; stroke-linecap:butt; stroke-linejoin:round; stroke-width:2; stroke-opacity:0.1; fill:none\" points=\"\n  178.867,595.447 2352.76,595.447 \n  \"/>\n<polyline clip-path=\"url(#clip722)\" style=\"stroke:#000000; stroke-linecap:butt; stroke-linejoin:round; stroke-width:2; stroke-opacity:0.1; fill:none\" points=\"\n  178.867,172.555 2352.76,172.555 \n  \"/>\n<polyline clip-path=\"url(#clip720)\" style=\"stroke:#000000; stroke-linecap:butt; stroke-linejoin:round; stroke-width:4; stroke-opacity:1; fill:none\" points=\"\n  178.867,1486.45 178.867,47.2441 \n  \"/>\n<polyline clip-path=\"url(#clip720)\" style=\"stroke:#000000; stroke-linecap:butt; stroke-linejoin:round; stroke-width:4; stroke-opacity:1; fill:none\" points=\"\n  178.867,1441.23 197.764,1441.23 \n  \"/>\n<polyline clip-path=\"url(#clip720)\" style=\"stroke:#000000; stroke-linecap:butt; stroke-linejoin:round; stroke-width:4; stroke-opacity:1; fill:none\" points=\"\n  178.867,1018.34 197.764,1018.34 \n  \"/>\n<polyline clip-path=\"url(#clip720)\" style=\"stroke:#000000; stroke-linecap:butt; stroke-linejoin:round; stroke-width:4; stroke-opacity:1; fill:none\" points=\"\n  178.867,595.447 197.764,595.447 \n  \"/>\n<polyline clip-path=\"url(#clip720)\" style=\"stroke:#000000; stroke-linecap:butt; stroke-linejoin:round; stroke-width:4; stroke-opacity:1; fill:none\" points=\"\n  178.867,172.555 197.764,172.555 \n  \"/>\n<path clip-path=\"url(#clip720)\" d=\"M51.9875 1441.68 L81.6633 1441.68 L81.6633 1445.62 L51.9875 1445.62 L51.9875 1441.68 Z\" fill=\"#000000\" fill-rule=\"evenodd\" fill-opacity=\"1\" /><path clip-path=\"url(#clip720)\" d=\"M92.566 1454.58 L100.205 1454.58 L100.205 1428.21 L91.8947 1429.88 L91.8947 1425.62 L100.159 1423.95 L104.834 1423.95 L104.834 1454.58 L112.473 1454.58 L112.473 1458.51 L92.566 1458.51 L92.566 1454.58 Z\" fill=\"#000000\" fill-rule=\"evenodd\" fill-opacity=\"1\" /><path clip-path=\"url(#clip720)\" d=\"M121.964 1423.95 L140.32 1423.95 L140.32 1427.89 L126.246 1427.89 L126.246 1436.36 Q127.265 1436.01 128.283 1435.85 Q129.302 1435.66 130.32 1435.66 Q136.107 1435.66 139.487 1438.84 Q142.867 1442.01 142.867 1447.42 Q142.867 1453 139.394 1456.1 Q135.922 1459.18 129.603 1459.18 Q127.427 1459.18 125.158 1458.81 Q122.913 1458.44 120.506 1457.7 L120.506 1453 Q122.589 1454.14 124.811 1454.69 Q127.033 1455.25 129.51 1455.25 Q133.515 1455.25 135.853 1453.14 Q138.191 1451.04 138.191 1447.42 Q138.191 1443.81 135.853 1441.71 Q133.515 1439.6 129.51 1439.6 Q127.635 1439.6 125.76 1440.02 Q123.908 1440.43 121.964 1441.31 L121.964 1423.95 Z\" fill=\"#000000\" fill-rule=\"evenodd\" fill-opacity=\"1\" /><path clip-path=\"url(#clip720)\" d=\"M50.9921 1018.79 L80.6679 1018.79 L80.6679 1022.73 L50.9921 1022.73 L50.9921 1018.79 Z\" fill=\"#000000\" fill-rule=\"evenodd\" fill-opacity=\"1\" /><path clip-path=\"url(#clip720)\" d=\"M91.5706 1031.68 L99.2095 1031.68 L99.2095 1005.32 L90.8993 1006.99 L90.8993 1002.73 L99.1632 1001.06 L103.839 1001.06 L103.839 1031.68 L111.478 1031.68 L111.478 1035.62 L91.5706 1035.62 L91.5706 1031.68 Z\" fill=\"#000000\" fill-rule=\"evenodd\" fill-opacity=\"1\" /><path clip-path=\"url(#clip720)\" d=\"M130.922 1004.14 Q127.311 1004.14 125.482 1007.7 Q123.677 1011.24 123.677 1018.37 Q123.677 1025.48 125.482 1029.05 Q127.311 1032.59 130.922 1032.59 Q134.556 1032.59 136.362 1029.05 Q138.191 1025.48 138.191 1018.37 Q138.191 1011.24 136.362 1007.7 Q134.556 1004.14 130.922 1004.14 M130.922 1000.43 Q136.732 1000.43 139.788 1005.04 Q142.867 1009.62 142.867 1018.37 Q142.867 1027.1 139.788 1031.71 Q136.732 1036.29 130.922 1036.29 Q125.112 1036.29 122.033 1031.71 Q118.978 1027.1 118.978 1018.37 Q118.978 1009.62 122.033 1005.04 Q125.112 1000.43 130.922 1000.43 Z\" fill=\"#000000\" fill-rule=\"evenodd\" fill-opacity=\"1\" /><path clip-path=\"url(#clip720)\" d=\"M82.1494 595.899 L111.825 595.899 L111.825 599.834 L82.1494 599.834 L82.1494 595.899 Z\" fill=\"#000000\" fill-rule=\"evenodd\" fill-opacity=\"1\" /><path clip-path=\"url(#clip720)\" d=\"M121.964 578.167 L140.32 578.167 L140.32 582.102 L126.246 582.102 L126.246 590.575 Q127.265 590.227 128.283 590.065 Q129.302 589.88 130.32 589.88 Q136.107 589.88 139.487 593.051 Q142.867 596.223 142.867 601.639 Q142.867 607.218 139.394 610.32 Q135.922 613.398 129.603 613.398 Q127.427 613.398 125.158 613.028 Q122.913 612.658 120.506 611.917 L120.506 607.218 Q122.589 608.352 124.811 608.908 Q127.033 609.463 129.51 609.463 Q133.515 609.463 135.853 607.357 Q138.191 605.25 138.191 601.639 Q138.191 598.028 135.853 595.922 Q133.515 593.815 129.51 593.815 Q127.635 593.815 125.76 594.232 Q123.908 594.649 121.964 595.528 L121.964 578.167 Z\" fill=\"#000000\" fill-rule=\"evenodd\" fill-opacity=\"1\" /><path clip-path=\"url(#clip720)\" d=\"M130.922 158.353 Q127.311 158.353 125.482 161.918 Q123.677 165.46 123.677 172.589 Q123.677 179.696 125.482 183.261 Q127.311 186.802 130.922 186.802 Q134.556 186.802 136.362 183.261 Q138.191 179.696 138.191 172.589 Q138.191 165.46 136.362 161.918 Q134.556 158.353 130.922 158.353 M130.922 154.65 Q136.732 154.65 139.788 159.256 Q142.867 163.84 142.867 172.589 Q142.867 181.316 139.788 185.923 Q136.732 190.506 130.922 190.506 Q125.112 190.506 122.033 185.923 Q118.978 181.316 118.978 172.589 Q118.978 163.84 122.033 159.256 Q125.112 154.65 130.922 154.65 Z\" fill=\"#000000\" fill-rule=\"evenodd\" fill-opacity=\"1\" /><polyline clip-path=\"url(#clip722)\" style=\"stroke:#009af9; stroke-linecap:butt; stroke-linejoin:round; stroke-width:4; stroke-opacity:1; fill:none\" points=\"\n  240.392,1402.6 261.107,1390.78 281.823,1386.47 302.538,1392.57 323.254,1383.96 343.97,1382.25 364.685,1378.54 385.401,1370.08 406.116,1366.44 426.832,1360.86 \n  447.547,1351.24 468.263,1343.21 488.978,1332.36 509.694,1325.13 530.409,1312.38 551.125,1305.41 571.841,1294.08 592.556,1281.27 613.272,1270.75 633.987,1259.84 \n  654.703,1250.73 675.418,1233.97 696.134,1225.29 716.849,1212.54 737.565,1201.59 758.28,1188.91 778.996,1178.06 799.712,1169.54 820.427,1153.74 841.143,1144.92 \n  861.858,1129.84 882.574,1119.04 903.289,1105.53 924.005,1093.08 944.72,1082.81 965.436,1068.84 986.151,1054.31 1006.87,1041.85 1027.58,1034.71 1048.3,1023.49 \n  1069.01,1011.17 1089.73,998.618 1110.44,981.179 1131.16,970.153 1151.88,957.253 1172.59,943.21 1193.31,936.252 1214.02,920.219 1234.74,907.835 1255.45,888.937 \n  1276.17,880.395 1296.88,870.165 1317.6,854.022 1338.32,834.788 1359.03,830.578 1379.75,820.327 1400.46,798.345 1421.18,792.656 1441.89,779.233 1462.61,765.485 \n  1483.32,758.225 1504.04,742.047 1524.76,728.348 1545.47,719.38 1566.19,696.072 1586.9,684.782 1607.62,676.297 1628.33,658.807 1649.05,646.274 1669.76,635.611 \n  1690.48,626.453 1711.2,606.917 1731.91,595.8 1752.63,587.253 1773.34,564.942 1794.06,562.404 1814.77,545.48 1835.49,532.028 1856.2,522.533 1876.92,501.461 \n  1897.64,495.018 1918.35,478.142 1939.07,470.299 1959.78,447.217 1980.5,433.135 2001.21,420.981 2021.93,414.49 2042.64,406.667 2063.36,376.187 2084.08,377.999 \n  2104.79,355.476 2125.51,341.053 2146.22,339.388 2166.94,321.834 2187.65,304.61 2208.37,295.109 2229.08,271.861 2249.8,258.86 2270.52,262.67 2291.23,233.904 \n  \n  \"/>\n<polyline clip-path=\"url(#clip722)\" style=\"stroke:#e26f46; stroke-linecap:butt; stroke-linejoin:round; stroke-width:4; stroke-opacity:1; fill:none\" points=\"\n  240.392,1445.72 261.107,1435.81 281.823,1431.55 302.538,1427.38 323.254,1422.93 343.97,1418.36 364.685,1413.41 385.401,1410.04 406.116,1407.57 426.832,1403.77 \n  447.547,1399.37 468.263,1394.75 488.978,1390.03 509.694,1385.89 530.409,1381.2 551.125,1375.6 571.841,1370.15 592.556,1366.02 613.272,1361 633.987,1353.9 \n  654.703,1348.6 675.418,1344.11 696.134,1337.52 716.849,1332.74 737.565,1325.18 758.28,1320.2 778.996,1315.44 799.712,1309.31 820.427,1302.7 841.143,1296.86 \n  861.858,1290.4 882.574,1284.76 903.289,1277.48 924.005,1273.34 944.72,1266.04 965.436,1259.63 986.151,1252.75 1006.87,1246.67 1027.58,1241.77 1048.3,1236.1 \n  1069.01,1227.45 1089.73,1221.34 1110.44,1216.77 1131.16,1209.37 1151.88,1204.88 1172.59,1196.26 1193.31,1190.86 1214.02,1183.14 1234.74,1179.73 1255.45,1170.7 \n  1276.17,1165.02 1296.88,1158.67 1317.6,1151.65 1338.32,1145.56 1359.03,1139.06 1379.75,1133.55 1400.46,1125.86 1421.18,1119.61 1441.89,1114.04 1462.61,1106.39 \n  1483.32,1102.22 1504.04,1093.72 1524.76,1087.2 1545.47,1079.94 1566.19,1073.15 1586.9,1068.07 1607.62,1059.67 1628.33,1053.83 1649.05,1047.63 1669.76,1038.93 \n  1690.48,1034.6 1711.2,1027.87 1731.91,1020.47 1752.63,1016.75 1773.34,1008.3 1794.06,1000.29 1814.77,996.644 1835.49,987.869 1856.2,981.48 1876.92,974.883 \n  1897.64,967.846 1918.35,963.736 1939.07,955.526 1959.78,948.708 1980.5,941.382 2001.21,937.006 2021.93,930.464 2042.64,922.17 2063.36,916.983 2084.08,910.48 \n  2104.79,902.764 2125.51,896.119 2146.22,889.321 2166.94,884.574 2187.65,875.43 2208.37,870.954 2229.08,861.649 2249.8,857.47 2270.52,850.391 2291.23,842.274 \n  \n  \"/>\n<polyline clip-path=\"url(#clip722)\" style=\"stroke:#3da44d; stroke-linecap:butt; stroke-linejoin:round; stroke-width:4; stroke-opacity:1; fill:none\" stroke-dasharray=\"16, 10\" points=\"\n  240.392,1441.23 261.107,1427.56 281.823,1413.89 302.538,1400.22 323.254,1386.56 343.97,1372.89 364.685,1359.22 385.401,1345.55 406.116,1331.88 426.832,1318.21 \n  447.547,1304.54 468.263,1290.87 488.978,1277.2 509.694,1263.53 530.409,1249.86 551.125,1236.19 571.841,1222.52 592.556,1208.85 613.272,1195.19 633.987,1181.52 \n  654.703,1167.85 675.418,1154.18 696.134,1140.51 716.849,1126.84 737.565,1113.17 758.28,1099.5 778.996,1085.83 799.712,1072.16 820.427,1058.49 841.143,1044.82 \n  861.858,1031.15 882.574,1017.49 903.289,1003.82 924.005,990.147 944.72,976.478 965.436,962.808 986.151,949.139 1006.87,935.47 1027.58,921.801 1048.3,908.131 \n  1069.01,894.462 1089.73,880.793 1110.44,867.124 1131.16,853.454 1151.88,839.785 1172.59,826.116 1193.31,812.447 1214.02,798.777 1234.74,785.108 1255.45,771.439 \n  1276.17,757.77 1296.88,744.1 1317.6,730.431 1338.32,716.762 1359.03,703.093 1379.75,689.423 1400.46,675.754 1421.18,662.085 1441.89,648.416 1462.61,634.746 \n  1483.32,621.077 1504.04,607.408 1524.76,593.739 1545.47,580.069 1566.19,566.4 1586.9,552.731 1607.62,539.062 1628.33,525.392 1649.05,511.723 1669.76,498.054 \n  1690.48,484.385 1711.2,470.715 1731.91,457.046 1752.63,443.377 1773.34,429.708 1794.06,416.038 1814.77,402.369 1835.49,388.7 1856.2,375.031 1876.92,361.361 \n  1897.64,347.692 1918.35,334.023 1939.07,320.354 1959.78,306.684 1980.5,293.015 2001.21,279.346 2021.93,265.677 2042.64,252.007 2063.36,238.338 2084.08,224.669 \n  2104.79,211 2125.51,197.33 2146.22,183.661 2166.94,169.992 2187.65,156.323 2208.37,142.653 2229.08,128.984 2249.8,115.315 2270.52,101.646 2291.23,87.9763 \n  \n  \"/>\n<polyline clip-path=\"url(#clip722)\" style=\"stroke:#c271d2; stroke-linecap:butt; stroke-linejoin:round; stroke-width:4; stroke-opacity:1; fill:none\" stroke-dasharray=\"16, 10\" points=\"\n  240.392,1441.23 261.107,1434.4 281.823,1427.56 302.538,1420.73 323.254,1413.89 343.97,1407.06 364.685,1400.22 385.401,1393.39 406.116,1386.56 426.832,1379.72 \n  447.547,1372.89 468.263,1366.05 488.978,1359.22 509.694,1352.38 530.409,1345.55 551.125,1338.71 571.841,1331.88 592.556,1325.04 613.272,1318.21 633.987,1311.37 \n  654.703,1304.54 675.418,1297.7 696.134,1290.87 716.849,1284.04 737.565,1277.2 758.28,1270.37 778.996,1263.53 799.712,1256.7 820.427,1249.86 841.143,1243.03 \n  861.858,1236.19 882.574,1229.36 903.289,1222.52 924.005,1215.69 944.72,1208.85 965.436,1202.02 986.151,1195.19 1006.87,1188.35 1027.58,1181.52 1048.3,1174.68 \n  1069.01,1167.85 1089.73,1161.01 1110.44,1154.18 1131.16,1147.34 1151.88,1140.51 1172.59,1133.67 1193.31,1126.84 1214.02,1120 1234.74,1113.17 1255.45,1106.34 \n  1276.17,1099.5 1296.88,1092.67 1317.6,1085.83 1338.32,1079 1359.03,1072.16 1379.75,1065.33 1400.46,1058.49 1421.18,1051.66 1441.89,1044.82 1462.61,1037.99 \n  1483.32,1031.15 1504.04,1024.32 1524.76,1017.49 1545.47,1010.65 1566.19,1003.82 1586.9,996.981 1607.62,990.147 1628.33,983.312 1649.05,976.478 1669.76,969.643 \n  1690.48,962.808 1711.2,955.974 1731.91,949.139 1752.63,942.304 1773.34,935.47 1794.06,928.635 1814.77,921.801 1835.49,914.966 1856.2,908.131 1876.92,901.297 \n  1897.64,894.462 1918.35,887.627 1939.07,880.793 1959.78,873.958 1980.5,867.124 2001.21,860.289 2021.93,853.454 2042.64,846.62 2063.36,839.785 2084.08,832.95 \n  2104.79,826.116 2125.51,819.281 2146.22,812.447 2166.94,805.612 2187.65,798.777 2208.37,791.943 2229.08,785.108 2249.8,778.273 2270.52,771.439 2291.23,764.604 \n  \n  \"/>\n<path clip-path=\"url(#clip720)\" d=\"\nM1986.15 354.418 L2280.29 354.418 L2280.29 95.2176 L1986.15 95.2176  Z\n  \" fill=\"#ffffff\" fill-rule=\"evenodd\" fill-opacity=\"1\"/>\n<polyline clip-path=\"url(#clip720)\" style=\"stroke:#000000; stroke-linecap:butt; stroke-linejoin:round; stroke-width:4; stroke-opacity:1; fill:none\" points=\"\n  1986.15,354.418 2280.29,354.418 2280.29,95.2176 1986.15,95.2176 1986.15,354.418 \n  \"/>\n<polyline clip-path=\"url(#clip720)\" style=\"stroke:#009af9; stroke-linecap:butt; stroke-linejoin:round; stroke-width:4; stroke-opacity:1; fill:none\" points=\"\n  2010.15,147.058 2154.15,147.058 \n  \"/>\n<path clip-path=\"url(#clip720)\" d=\"M2191.99 166.745 Q2190.19 171.375 2188.47 172.787 Q2186.76 174.199 2183.89 174.199 L2180.49 174.199 L2180.49 170.634 L2182.99 170.634 Q2184.75 170.634 2185.72 169.8 Q2186.69 168.967 2187.87 165.865 L2188.64 163.921 L2178.15 138.412 L2182.66 138.412 L2190.77 158.689 L2198.87 138.412 L2203.38 138.412 L2191.99 166.745 Z\" fill=\"#000000\" fill-rule=\"evenodd\" fill-opacity=\"1\" /><path clip-path=\"url(#clip720)\" d=\"M2210.67 160.402 L2218.31 160.402 L2218.31 134.037 L2210 135.703 L2210 131.444 L2218.27 129.778 L2222.94 129.778 L2222.94 160.402 L2230.58 160.402 L2230.58 164.338 L2210.67 164.338 L2210.67 160.402 Z\" fill=\"#000000\" fill-rule=\"evenodd\" fill-opacity=\"1\" /><polyline clip-path=\"url(#clip720)\" style=\"stroke:#e26f46; stroke-linecap:butt; stroke-linejoin:round; stroke-width:4; stroke-opacity:1; fill:none\" points=\"\n  2010.15,198.898 2154.15,198.898 \n  \"/>\n<path clip-path=\"url(#clip720)\" d=\"M2191.99 218.585 Q2190.19 223.215 2188.47 224.627 Q2186.76 226.039 2183.89 226.039 L2180.49 226.039 L2180.49 222.474 L2182.99 222.474 Q2184.75 222.474 2185.72 221.64 Q2186.69 220.807 2187.87 217.705 L2188.64 215.761 L2178.15 190.252 L2182.66 190.252 L2190.77 210.529 L2198.87 190.252 L2203.38 190.252 L2191.99 218.585 Z\" fill=\"#000000\" fill-rule=\"evenodd\" fill-opacity=\"1\" /><path clip-path=\"url(#clip720)\" d=\"M2213.89 212.242 L2230.21 212.242 L2230.21 216.178 L2208.27 216.178 L2208.27 212.242 Q2210.93 209.488 2215.51 204.858 Q2220.12 200.205 2221.3 198.863 Q2223.54 196.34 2224.42 194.604 Q2225.33 192.844 2225.33 191.155 Q2225.33 188.4 2223.38 186.664 Q2221.46 184.928 2218.36 184.928 Q2216.16 184.928 2213.71 185.692 Q2211.27 186.455 2208.5 188.006 L2208.5 183.284 Q2211.32 182.15 2213.77 181.571 Q2216.23 180.993 2218.27 180.993 Q2223.64 180.993 2226.83 183.678 Q2230.02 186.363 2230.02 190.854 Q2230.02 192.983 2229.21 194.905 Q2228.43 196.803 2226.32 199.395 Q2225.74 200.067 2222.64 203.284 Q2219.54 206.479 2213.89 212.242 Z\" fill=\"#000000\" fill-rule=\"evenodd\" fill-opacity=\"1\" /><polyline clip-path=\"url(#clip720)\" style=\"stroke:#3da44d; stroke-linecap:butt; stroke-linejoin:round; stroke-width:4; stroke-opacity:1; fill:none\" stroke-dasharray=\"16, 10\" points=\"\n  2010.15,250.738 2154.15,250.738 \n  \"/>\n<path clip-path=\"url(#clip720)\" d=\"M2191.99 270.425 Q2190.19 275.055 2188.47 276.467 Q2186.76 277.879 2183.89 277.879 L2180.49 277.879 L2180.49 274.314 L2182.99 274.314 Q2184.75 274.314 2185.72 273.48 Q2186.69 272.647 2187.87 269.545 L2188.64 267.601 L2178.15 242.092 L2182.66 242.092 L2190.77 262.369 L2198.87 242.092 L2203.38 242.092 L2191.99 270.425 Z\" fill=\"#000000\" fill-rule=\"evenodd\" fill-opacity=\"1\" /><path clip-path=\"url(#clip720)\" d=\"M2224.03 249.383 Q2227.39 250.101 2229.26 252.369 Q2231.16 254.638 2231.16 257.971 Q2231.16 263.087 2227.64 265.888 Q2224.12 268.689 2217.64 268.689 Q2215.46 268.689 2213.15 268.249 Q2210.86 267.832 2208.4 266.976 L2208.4 262.462 Q2210.35 263.596 2212.66 264.175 Q2214.98 264.754 2217.5 264.754 Q2221.9 264.754 2224.19 263.018 Q2226.51 261.281 2226.51 257.971 Q2226.51 254.916 2224.35 253.203 Q2222.22 251.467 2218.4 251.467 L2214.38 251.467 L2214.38 247.624 L2218.59 247.624 Q2222.04 247.624 2223.87 246.258 Q2225.7 244.87 2225.7 242.277 Q2225.7 239.615 2223.8 238.203 Q2221.92 236.768 2218.4 236.768 Q2216.48 236.768 2214.28 237.184 Q2212.08 237.601 2209.45 238.481 L2209.45 234.314 Q2212.11 233.573 2214.42 233.203 Q2216.76 232.833 2218.82 232.833 Q2224.14 232.833 2227.25 235.263 Q2230.35 237.67 2230.35 241.791 Q2230.35 244.661 2228.7 246.652 Q2227.06 248.62 2224.03 249.383 Z\" fill=\"#000000\" fill-rule=\"evenodd\" fill-opacity=\"1\" /><polyline clip-path=\"url(#clip720)\" style=\"stroke:#c271d2; stroke-linecap:butt; stroke-linejoin:round; stroke-width:4; stroke-opacity:1; fill:none\" stroke-dasharray=\"16, 10\" points=\"\n  2010.15,302.578 2154.15,302.578 \n  \"/>\n<path clip-path=\"url(#clip720)\" d=\"M2191.99 322.265 Q2190.19 326.895 2188.47 328.307 Q2186.76 329.719 2183.89 329.719 L2180.49 329.719 L2180.49 326.154 L2182.99 326.154 Q2184.75 326.154 2185.72 325.32 Q2186.69 324.487 2187.87 321.385 L2188.64 319.441 L2178.15 293.932 L2182.66 293.932 L2190.77 314.209 L2198.87 293.932 L2203.38 293.932 L2191.99 322.265 Z\" fill=\"#000000\" fill-rule=\"evenodd\" fill-opacity=\"1\" /><path clip-path=\"url(#clip720)\" d=\"M2222.71 289.372 L2210.9 307.821 L2222.71 307.821 L2222.71 289.372 M2221.48 285.298 L2227.36 285.298 L2227.36 307.821 L2232.29 307.821 L2232.29 311.709 L2227.36 311.709 L2227.36 319.858 L2222.71 319.858 L2222.71 311.709 L2207.11 311.709 L2207.11 307.196 L2221.48 285.298 Z\" fill=\"#000000\" fill-rule=\"evenodd\" fill-opacity=\"1\" /></svg>\n"
     },
     "execution_count": 3,
     "metadata": {},
     "output_type": "execute_result"
    }
   ],
   "source": [
    "plot(log10.(kap), log10.(errs))\n",
    "plot!(log10.(kap), log10.(res))\n",
    "\n",
    "plot!(log10.(kap), -15*ones(length(kap)) + 2*log10.(kap), linestyle = :dash)\n",
    "plot!(log10.(kap), -15*ones(length(kap)) + log10.(kap), linestyle = :dash)"
   ]
  },
  {
   "cell_type": "markdown",
   "metadata": {},
   "source": [
    "The loss of orthogonality seems to scale with $\\kappa(X)^2$, while the residual seems to scale linearly in $\\kappa(X)$. So, at least for these random matrices, things are not quite as bad as the worst case first-order estimates we derived. In fact, these experiment results echo similar experiments for classical Gram-Schmidt.\n",
    "\n",
    "We can actually do better, if we're willing to rerun CholeskyQR for a second time with the orthogonal factor."
   ]
  },
  {
   "cell_type": "code",
   "execution_count": 4,
   "metadata": {},
   "outputs": [],
   "source": [
    "m = 1e4\n",
    "n = 100\n",
    "kap_max = 1e8\n",
    "kap = 10 .^ (range(0, stop = log10(kap_max), length = n))\n",
    "errs = zeros(length(kap))\n",
    "res = zeros(length(kap))\n",
    "for k = 1:length(kap)\n",
    "    X = randMat(m, n, kap[k])\n",
    "    Q, R1 = choleskyQR( X )\n",
    "    Q, R2 = choleskyQR( Q )\n",
    "    R = R2*R1\n",
    "    errs[k] = norm(I - Q' * Q)\n",
    "    res[k] = norm(X - Q*R)\n",
    "end"
   ]
  },
  {
   "cell_type": "markdown",
   "metadata": {},
   "source": [
    "The residual still scales linearly with the condition number, but the loss of orthogonality in the computed orthogonal factor stays level at machine precision! This \"twice-is-enough\" phenomenon is also present in classical Gram-Schmidt."
   ]
  },
  {
   "cell_type": "code",
   "execution_count": 5,
   "metadata": {},
   "outputs": [
    {
     "data": {
      "image/svg+xml": "<?xml version=\"1.0\" encoding=\"utf-8\"?>\n<svg xmlns=\"http://www.w3.org/2000/svg\" xmlns:xlink=\"http://www.w3.org/1999/xlink\" width=\"600\" height=\"400\" viewBox=\"0 0 2400 1600\">\n<defs>\n  <clipPath id=\"clip760\">\n    <rect x=\"0\" y=\"0\" width=\"2400\" height=\"1600\"/>\n  </clipPath>\n</defs>\n<path clip-path=\"url(#clip760)\" d=\"\nM0 1600 L2400 1600 L2400 0 L0 0  Z\n  \" fill=\"#ffffff\" fill-rule=\"evenodd\" fill-opacity=\"1\"/>\n<defs>\n  <clipPath id=\"clip761\">\n    <rect x=\"480\" y=\"0\" width=\"1681\" height=\"1600\"/>\n  </clipPath>\n</defs>\n<path clip-path=\"url(#clip760)\" d=\"\nM179.353 1486.45 L2352.76 1486.45 L2352.76 47.2441 L179.353 47.2441  Z\n  \" fill=\"#ffffff\" fill-rule=\"evenodd\" fill-opacity=\"1\"/>\n<defs>\n  <clipPath id=\"clip762\">\n    <rect x=\"179\" y=\"47\" width=\"2174\" height=\"1440\"/>\n  </clipPath>\n</defs>\n<polyline clip-path=\"url(#clip762)\" style=\"stroke:#000000; stroke-linecap:butt; stroke-linejoin:round; stroke-width:2; stroke-opacity:0.1; fill:none\" points=\"\n  240.864,1486.45 240.864,47.2441 \n  \"/>\n<polyline clip-path=\"url(#clip762)\" style=\"stroke:#000000; stroke-linecap:butt; stroke-linejoin:round; stroke-width:2; stroke-opacity:0.1; fill:none\" points=\"\n  753.459,1486.45 753.459,47.2441 \n  \"/>\n<polyline clip-path=\"url(#clip762)\" style=\"stroke:#000000; stroke-linecap:butt; stroke-linejoin:round; stroke-width:2; stroke-opacity:0.1; fill:none\" points=\"\n  1266.05,1486.45 1266.05,47.2441 \n  \"/>\n<polyline clip-path=\"url(#clip762)\" style=\"stroke:#000000; stroke-linecap:butt; stroke-linejoin:round; stroke-width:2; stroke-opacity:0.1; fill:none\" points=\"\n  1778.65,1486.45 1778.65,47.2441 \n  \"/>\n<polyline clip-path=\"url(#clip762)\" style=\"stroke:#000000; stroke-linecap:butt; stroke-linejoin:round; stroke-width:2; stroke-opacity:0.1; fill:none\" points=\"\n  2291.24,1486.45 2291.24,47.2441 \n  \"/>\n<polyline clip-path=\"url(#clip760)\" style=\"stroke:#000000; stroke-linecap:butt; stroke-linejoin:round; stroke-width:4; stroke-opacity:1; fill:none\" points=\"\n  179.353,1486.45 2352.76,1486.45 \n  \"/>\n<polyline clip-path=\"url(#clip760)\" style=\"stroke:#000000; stroke-linecap:butt; stroke-linejoin:round; stroke-width:4; stroke-opacity:1; fill:none\" points=\"\n  240.864,1486.45 240.864,1467.55 \n  \"/>\n<polyline clip-path=\"url(#clip760)\" style=\"stroke:#000000; stroke-linecap:butt; stroke-linejoin:round; stroke-width:4; stroke-opacity:1; fill:none\" points=\"\n  753.459,1486.45 753.459,1467.55 \n  \"/>\n<polyline clip-path=\"url(#clip760)\" style=\"stroke:#000000; stroke-linecap:butt; stroke-linejoin:round; stroke-width:4; stroke-opacity:1; fill:none\" points=\"\n  1266.05,1486.45 1266.05,1467.55 \n  \"/>\n<polyline clip-path=\"url(#clip760)\" style=\"stroke:#000000; stroke-linecap:butt; stroke-linejoin:round; stroke-width:4; stroke-opacity:1; fill:none\" points=\"\n  1778.65,1486.45 1778.65,1467.55 \n  \"/>\n<polyline clip-path=\"url(#clip760)\" style=\"stroke:#000000; stroke-linecap:butt; stroke-linejoin:round; stroke-width:4; stroke-opacity:1; fill:none\" points=\"\n  2291.24,1486.45 2291.24,1467.55 \n  \"/>\n<path clip-path=\"url(#clip760)\" d=\"M240.864 1517.37 Q237.253 1517.37 235.424 1520.93 Q233.619 1524.47 233.619 1531.6 Q233.619 1538.71 235.424 1542.27 Q237.253 1545.82 240.864 1545.82 Q244.498 1545.82 246.304 1542.27 Q248.133 1538.71 248.133 1531.6 Q248.133 1524.47 246.304 1520.93 Q244.498 1517.37 240.864 1517.37 M240.864 1513.66 Q246.674 1513.66 249.73 1518.27 Q252.809 1522.85 252.809 1531.6 Q252.809 1540.33 249.73 1544.94 Q246.674 1549.52 240.864 1549.52 Q235.054 1549.52 231.975 1544.94 Q228.92 1540.33 228.92 1531.6 Q228.92 1522.85 231.975 1518.27 Q235.054 1513.66 240.864 1513.66 Z\" fill=\"#000000\" fill-rule=\"evenodd\" fill-opacity=\"1\" /><path clip-path=\"url(#clip760)\" d=\"M748.112 1544.91 L764.431 1544.91 L764.431 1548.85 L742.487 1548.85 L742.487 1544.91 Q745.149 1542.16 749.732 1537.53 Q754.339 1532.88 755.519 1531.53 Q757.765 1529.01 758.644 1527.27 Q759.547 1525.51 759.547 1523.82 Q759.547 1521.07 757.603 1519.33 Q755.681 1517.6 752.58 1517.6 Q750.381 1517.6 747.927 1518.36 Q745.496 1519.13 742.719 1520.68 L742.719 1515.95 Q745.543 1514.82 747.996 1514.24 Q750.45 1513.66 752.487 1513.66 Q757.857 1513.66 761.052 1516.35 Q764.246 1519.03 764.246 1523.52 Q764.246 1525.65 763.436 1527.57 Q762.649 1529.47 760.543 1532.07 Q759.964 1532.74 756.862 1535.95 Q753.76 1539.15 748.112 1544.91 Z\" fill=\"#000000\" fill-rule=\"evenodd\" fill-opacity=\"1\" /><path clip-path=\"url(#clip760)\" d=\"M1269.06 1518.36 L1257.26 1536.81 L1269.06 1536.81 L1269.06 1518.36 M1267.84 1514.29 L1273.72 1514.29 L1273.72 1536.81 L1278.65 1536.81 L1278.65 1540.7 L1273.72 1540.7 L1273.72 1548.85 L1269.06 1548.85 L1269.06 1540.7 L1253.46 1540.7 L1253.46 1536.19 L1267.84 1514.29 Z\" fill=\"#000000\" fill-rule=\"evenodd\" fill-opacity=\"1\" /><path clip-path=\"url(#clip760)\" d=\"M1779.05 1529.7 Q1775.91 1529.7 1774.05 1531.86 Q1772.23 1534.01 1772.23 1537.76 Q1772.23 1541.49 1774.05 1543.66 Q1775.91 1545.82 1779.05 1545.82 Q1782.2 1545.82 1784.03 1543.66 Q1785.88 1541.49 1785.88 1537.76 Q1785.88 1534.01 1784.03 1531.86 Q1782.2 1529.7 1779.05 1529.7 M1788.34 1515.05 L1788.34 1519.31 Q1786.58 1518.48 1784.77 1518.04 Q1782.99 1517.6 1781.23 1517.6 Q1776.6 1517.6 1774.15 1520.72 Q1771.72 1523.85 1771.37 1530.17 Q1772.74 1528.15 1774.8 1527.09 Q1776.86 1526 1779.33 1526 Q1784.54 1526 1787.55 1529.17 Q1790.58 1532.32 1790.58 1537.76 Q1790.58 1543.08 1787.43 1546.3 Q1784.29 1549.52 1779.05 1549.52 Q1773.06 1549.52 1769.89 1544.94 Q1766.72 1540.33 1766.72 1531.6 Q1766.72 1523.41 1770.61 1518.55 Q1774.49 1513.66 1781.05 1513.66 Q1782.8 1513.66 1784.59 1514.01 Q1786.39 1514.36 1788.34 1515.05 Z\" fill=\"#000000\" fill-rule=\"evenodd\" fill-opacity=\"1\" /><path clip-path=\"url(#clip760)\" d=\"M2291.24 1532.44 Q2287.91 1532.44 2285.99 1534.22 Q2284.09 1536 2284.09 1539.13 Q2284.09 1542.25 2285.99 1544.03 Q2287.91 1545.82 2291.24 1545.82 Q2294.58 1545.82 2296.5 1544.03 Q2298.42 1542.23 2298.42 1539.13 Q2298.42 1536 2296.5 1534.22 Q2294.6 1532.44 2291.24 1532.44 M2286.57 1530.45 Q2283.56 1529.7 2281.87 1527.64 Q2280.2 1525.58 2280.2 1522.62 Q2280.2 1518.48 2283.14 1516.07 Q2286.11 1513.66 2291.24 1513.66 Q2296.41 1513.66 2299.35 1516.07 Q2302.29 1518.48 2302.29 1522.62 Q2302.29 1525.58 2300.6 1527.64 Q2298.93 1529.7 2295.94 1530.45 Q2299.32 1531.23 2301.2 1533.52 Q2303.1 1535.82 2303.1 1539.13 Q2303.1 1544.15 2300.02 1546.83 Q2296.96 1549.52 2291.24 1549.52 Q2285.53 1549.52 2282.45 1546.83 Q2279.39 1544.15 2279.39 1539.13 Q2279.39 1535.82 2281.29 1533.52 Q2283.19 1531.23 2286.57 1530.45 M2284.86 1523.06 Q2284.86 1525.75 2286.52 1527.25 Q2288.21 1528.76 2291.24 1528.76 Q2294.25 1528.76 2295.94 1527.25 Q2297.66 1525.75 2297.66 1523.06 Q2297.66 1520.38 2295.94 1518.87 Q2294.25 1517.37 2291.24 1517.37 Q2288.21 1517.37 2286.52 1518.87 Q2284.86 1520.38 2284.86 1523.06 Z\" fill=\"#000000\" fill-rule=\"evenodd\" fill-opacity=\"1\" /><polyline clip-path=\"url(#clip762)\" style=\"stroke:#000000; stroke-linecap:butt; stroke-linejoin:round; stroke-width:2; stroke-opacity:0.1; fill:none\" points=\"\n  179.353,1276 2352.76,1276 \n  \"/>\n<polyline clip-path=\"url(#clip762)\" style=\"stroke:#000000; stroke-linecap:butt; stroke-linejoin:round; stroke-width:2; stroke-opacity:0.1; fill:none\" points=\"\n  179.353,936.563 2352.76,936.563 \n  \"/>\n<polyline clip-path=\"url(#clip762)\" style=\"stroke:#000000; stroke-linecap:butt; stroke-linejoin:round; stroke-width:2; stroke-opacity:0.1; fill:none\" points=\"\n  179.353,597.129 2352.76,597.129 \n  \"/>\n<polyline clip-path=\"url(#clip762)\" style=\"stroke:#000000; stroke-linecap:butt; stroke-linejoin:round; stroke-width:2; stroke-opacity:0.1; fill:none\" points=\"\n  179.353,257.694 2352.76,257.694 \n  \"/>\n<polyline clip-path=\"url(#clip760)\" style=\"stroke:#000000; stroke-linecap:butt; stroke-linejoin:round; stroke-width:4; stroke-opacity:1; fill:none\" points=\"\n  179.353,1486.45 179.353,47.2441 \n  \"/>\n<polyline clip-path=\"url(#clip760)\" style=\"stroke:#000000; stroke-linecap:butt; stroke-linejoin:round; stroke-width:4; stroke-opacity:1; fill:none\" points=\"\n  179.353,1276 198.25,1276 \n  \"/>\n<polyline clip-path=\"url(#clip760)\" style=\"stroke:#000000; stroke-linecap:butt; stroke-linejoin:round; stroke-width:4; stroke-opacity:1; fill:none\" points=\"\n  179.353,936.563 198.25,936.563 \n  \"/>\n<polyline clip-path=\"url(#clip760)\" style=\"stroke:#000000; stroke-linecap:butt; stroke-linejoin:round; stroke-width:4; stroke-opacity:1; fill:none\" points=\"\n  179.353,597.129 198.25,597.129 \n  \"/>\n<polyline clip-path=\"url(#clip760)\" style=\"stroke:#000000; stroke-linecap:butt; stroke-linejoin:round; stroke-width:4; stroke-opacity:1; fill:none\" points=\"\n  179.353,257.694 198.25,257.694 \n  \"/>\n<path clip-path=\"url(#clip760)\" d=\"M50.9921 1276.45 L80.6679 1276.45 L80.6679 1280.38 L50.9921 1280.38 L50.9921 1276.45 Z\" fill=\"#000000\" fill-rule=\"evenodd\" fill-opacity=\"1\" /><path clip-path=\"url(#clip760)\" d=\"M91.5706 1289.34 L99.2095 1289.34 L99.2095 1262.98 L90.8993 1264.64 L90.8993 1260.38 L99.1632 1258.72 L103.839 1258.72 L103.839 1289.34 L111.478 1289.34 L111.478 1293.28 L91.5706 1293.28 L91.5706 1289.34 Z\" fill=\"#000000\" fill-rule=\"evenodd\" fill-opacity=\"1\" /><path clip-path=\"url(#clip760)\" d=\"M133.769 1262.79 L121.964 1281.24 L133.769 1281.24 L133.769 1262.79 M132.543 1258.72 L138.422 1258.72 L138.422 1281.24 L143.353 1281.24 L143.353 1285.13 L138.422 1285.13 L138.422 1293.28 L133.769 1293.28 L133.769 1285.13 L118.168 1285.13 L118.168 1280.62 L132.543 1258.72 Z\" fill=\"#000000\" fill-rule=\"evenodd\" fill-opacity=\"1\" /><path clip-path=\"url(#clip760)\" d=\"M53.0754 937.015 L82.7512 937.015 L82.7512 940.95 L53.0754 940.95 L53.0754 937.015 Z\" fill=\"#000000\" fill-rule=\"evenodd\" fill-opacity=\"1\" /><path clip-path=\"url(#clip760)\" d=\"M93.6539 949.908 L101.293 949.908 L101.293 923.543 L92.9826 925.209 L92.9826 920.95 L101.246 919.283 L105.922 919.283 L105.922 949.908 L113.561 949.908 L113.561 953.843 L93.6539 953.843 L93.6539 949.908 Z\" fill=\"#000000\" fill-rule=\"evenodd\" fill-opacity=\"1\" /><path clip-path=\"url(#clip760)\" d=\"M127.033 949.908 L143.353 949.908 L143.353 953.843 L121.408 953.843 L121.408 949.908 Q124.07 947.154 128.654 942.524 Q133.26 937.871 134.441 936.529 Q136.686 934.006 137.566 932.269 Q138.469 930.51 138.469 928.82 Q138.469 926.066 136.524 924.33 Q134.603 922.594 131.501 922.594 Q129.302 922.594 126.848 923.357 Q124.418 924.121 121.64 925.672 L121.64 920.95 Q124.464 919.816 126.918 919.237 Q129.371 918.658 131.408 918.658 Q136.779 918.658 139.973 921.344 Q143.168 924.029 143.168 928.519 Q143.168 930.649 142.357 932.57 Q141.57 934.469 139.464 937.061 Q138.885 937.732 135.783 940.95 Q132.682 944.144 127.033 949.908 Z\" fill=\"#000000\" fill-rule=\"evenodd\" fill-opacity=\"1\" /><path clip-path=\"url(#clip760)\" d=\"M51.4782 597.58 L81.154 597.58 L81.154 601.515 L51.4782 601.515 L51.4782 597.58 Z\" fill=\"#000000\" fill-rule=\"evenodd\" fill-opacity=\"1\" /><path clip-path=\"url(#clip760)\" d=\"M92.0567 610.473 L99.6956 610.473 L99.6956 584.108 L91.3854 585.774 L91.3854 581.515 L99.6493 579.849 L104.325 579.849 L104.325 610.473 L111.964 610.473 L111.964 614.409 L92.0567 614.409 L92.0567 610.473 Z\" fill=\"#000000\" fill-rule=\"evenodd\" fill-opacity=\"1\" /><path clip-path=\"url(#clip760)\" d=\"M131.408 582.927 Q127.797 582.927 125.969 586.492 Q124.163 590.034 124.163 597.163 Q124.163 604.27 125.969 607.835 Q127.797 611.376 131.408 611.376 Q135.043 611.376 136.848 607.835 Q138.677 604.27 138.677 597.163 Q138.677 590.034 136.848 586.492 Q135.043 582.927 131.408 582.927 M131.408 579.224 Q137.219 579.224 140.274 583.83 Q143.353 588.413 143.353 597.163 Q143.353 605.89 140.274 610.497 Q137.219 615.08 131.408 615.08 Q125.598 615.08 122.52 610.497 Q119.464 605.89 119.464 597.163 Q119.464 588.413 122.52 583.83 Q125.598 579.224 131.408 579.224 Z\" fill=\"#000000\" fill-rule=\"evenodd\" fill-opacity=\"1\" /><path clip-path=\"url(#clip760)\" d=\"M81.7327 258.145 L111.408 258.145 L111.408 262.08 L81.7327 262.08 L81.7327 258.145 Z\" fill=\"#000000\" fill-rule=\"evenodd\" fill-opacity=\"1\" /><path clip-path=\"url(#clip760)\" d=\"M131.501 258.562 Q128.168 258.562 126.246 260.344 Q124.348 262.127 124.348 265.252 Q124.348 268.377 126.246 270.159 Q128.168 271.941 131.501 271.941 Q134.834 271.941 136.756 270.159 Q138.677 268.353 138.677 265.252 Q138.677 262.127 136.756 260.344 Q134.857 258.562 131.501 258.562 M126.825 256.571 Q123.816 255.83 122.126 253.77 Q120.459 251.71 120.459 248.747 Q120.459 244.603 123.399 242.196 Q126.362 239.789 131.501 239.789 Q136.663 239.789 139.603 242.196 Q142.543 244.603 142.543 248.747 Q142.543 251.71 140.853 253.77 Q139.186 255.83 136.2 256.571 Q139.58 257.358 141.455 259.65 Q143.353 261.941 143.353 265.252 Q143.353 270.275 140.274 272.96 Q137.219 275.645 131.501 275.645 Q125.783 275.645 122.705 272.96 Q119.649 270.275 119.649 265.252 Q119.649 261.941 121.547 259.65 Q123.445 257.358 126.825 256.571 M125.112 249.187 Q125.112 251.872 126.779 253.377 Q128.469 254.881 131.501 254.881 Q134.51 254.881 136.2 253.377 Q137.913 251.872 137.913 249.187 Q137.913 246.502 136.2 244.997 Q134.51 243.492 131.501 243.492 Q128.469 243.492 126.779 244.997 Q125.112 246.502 125.112 249.187 Z\" fill=\"#000000\" fill-rule=\"evenodd\" fill-opacity=\"1\" /><polyline clip-path=\"url(#clip762)\" style=\"stroke:#009af9; stroke-linecap:butt; stroke-linejoin:round; stroke-width:4; stroke-opacity:1; fill:none\" points=\"\n  240.864,1378.08 261.575,1381.55 282.286,1369.28 302.997,1367.99 323.708,1379.62 344.419,1374.07 365.13,1375.97 385.841,1375.12 406.551,1366.54 427.262,1368.44 \n  447.973,1365.94 468.684,1360.85 489.395,1366.82 510.106,1368.91 530.817,1360.4 551.528,1367.92 572.239,1355.1 592.95,1351.31 613.661,1360.57 634.371,1354.37 \n  655.082,1351.66 675.793,1351.59 696.504,1346.05 717.215,1354.47 737.926,1355.99 758.637,1346.17 779.348,1354.78 800.059,1354.98 820.77,1348.62 841.481,1349.26 \n  862.192,1355.31 882.902,1350.72 903.613,1350.68 924.324,1353.65 945.035,1353.31 965.746,1356.31 986.457,1351.16 1007.17,1346.33 1027.88,1356.68 1048.59,1355.78 \n  1069.3,1358.54 1090.01,1349.99 1110.72,1359.71 1131.43,1359.51 1152.14,1358.23 1172.86,1356.95 1193.57,1359.57 1214.28,1348.41 1234.99,1355.92 1255.7,1347.2 \n  1276.41,1356.39 1297.12,1352.01 1317.83,1344.36 1338.54,1352.54 1359.25,1365.97 1379.96,1355.42 1400.68,1348.5 1421.39,1348.19 1442.1,1358.84 1462.81,1355.46 \n  1483.52,1348.77 1504.23,1360.15 1524.94,1363.33 1545.65,1351.49 1566.36,1357.66 1587.07,1355.17 1607.78,1355.94 1628.5,1349.18 1649.21,1350.75 1669.92,1356.52 \n  1690.63,1350.75 1711.34,1355.14 1732.05,1359.71 1752.76,1354.35 1773.47,1356.15 1794.18,1355.32 1814.89,1353.92 1835.6,1351.87 1856.32,1344.73 1877.03,1350.31 \n  1897.74,1349.1 1918.45,1356.17 1939.16,1355.07 1959.87,1347.84 1980.58,1350.51 2001.29,1347.29 2022,1353.61 2042.71,1348.75 2063.42,1348.92 2084.14,1355.44 \n  2104.85,1351.81 2125.56,1353.08 2146.27,1346.92 2166.98,1346.83 2187.69,1352.66 2208.4,1362.37 2229.11,1352.06 2249.82,1343.36 2270.53,1348.58 2291.24,1363.28 \n  \n  \"/>\n<polyline clip-path=\"url(#clip762)\" style=\"stroke:#e26f46; stroke-linecap:butt; stroke-linejoin:round; stroke-width:4; stroke-opacity:1; fill:none\" points=\"\n  240.864,1445.16 261.575,1421.07 282.286,1407.38 302.997,1391.74 323.708,1377.08 344.419,1358.87 365.13,1343.7 385.841,1329.65 406.551,1311.66 427.262,1296.51 \n  447.973,1279.35 468.684,1265.52 489.395,1249.73 510.106,1235.99 530.817,1220.59 551.528,1206.74 572.239,1191.71 592.95,1177.39 613.661,1164.17 634.371,1151.16 \n  655.082,1136.74 675.793,1123.14 696.504,1110.62 717.215,1097.67 737.926,1085.74 758.637,1070.67 779.348,1057.55 800.059,1043.48 820.77,1030.84 841.481,1018.86 \n  862.192,1006.59 882.902,993.089 903.613,979.568 924.324,966.702 945.035,953.729 965.746,941.097 986.457,926.274 1007.17,916.374 1027.88,899.035 1048.59,887.777 \n  1069.3,875.186 1090.01,860.183 1110.72,847.109 1131.43,834.304 1152.14,822.023 1172.86,809.967 1193.57,795.825 1214.28,784.206 1234.99,770.082 1255.7,757.314 \n  1276.41,743.468 1297.12,727.849 1317.83,715.745 1338.54,703.649 1359.25,690.016 1379.96,676.776 1400.68,663.353 1421.39,647.812 1442.1,637.267 1462.81,622.952 \n  1483.52,610.585 1504.23,597.577 1524.94,582.262 1545.65,571.363 1566.36,557.434 1587.07,546.04 1607.78,529.718 1628.5,514.86 1649.21,506.094 1669.92,490.313 \n  1690.63,476.664 1711.34,465.038 1732.05,448.664 1752.76,436.887 1773.47,424.534 1794.18,410.104 1814.89,396.376 1835.6,383.153 1856.32,367.25 1877.03,354.951 \n  1897.74,342.509 1918.45,331.33 1939.16,312.841 1959.87,304.966 1980.58,289.214 2001.29,277.802 2022,260.769 2042.71,249.057 2063.42,236.66 2084.14,220.83 \n  2104.85,205.919 2125.56,196.353 2146.27,179.755 2166.98,167.49 2187.69,156.676 2208.4,140.611 2229.11,128.477 2249.82,116.201 2270.53,101.678 2291.24,91.3771 \n  \n  \"/>\n<polyline clip-path=\"url(#clip762)\" style=\"stroke:#3da44d; stroke-linecap:butt; stroke-linejoin:round; stroke-width:4; stroke-opacity:1; fill:none\" stroke-dasharray=\"16, 10\" points=\"\n  240.864,1445.72 261.575,1432 282.286,1418.29 302.997,1404.57 323.708,1390.86 344.419,1377.14 365.13,1363.43 385.841,1349.71 406.551,1336 427.262,1322.28 \n  447.973,1308.57 468.684,1294.86 489.395,1281.14 510.106,1267.43 530.817,1253.71 551.528,1240 572.239,1226.28 592.95,1212.57 613.661,1198.85 634.371,1185.14 \n  655.082,1171.42 675.793,1157.71 696.504,1144 717.215,1130.28 737.926,1116.57 758.637,1102.85 779.348,1089.14 800.059,1075.42 820.77,1061.71 841.481,1047.99 \n  862.192,1034.28 882.902,1020.56 903.613,1006.85 924.324,993.136 945.035,979.421 965.746,965.707 986.457,951.992 1007.17,938.278 1027.88,924.563 1048.59,910.849 \n  1069.3,897.134 1090.01,883.42 1110.72,869.705 1131.43,855.99 1152.14,842.276 1172.86,828.561 1193.57,814.847 1214.28,801.132 1234.99,787.418 1255.7,773.703 \n  1276.41,759.989 1297.12,746.274 1317.83,732.56 1338.54,718.845 1359.25,705.131 1379.96,691.416 1400.68,677.701 1421.39,663.987 1442.1,650.272 1462.81,636.558 \n  1483.52,622.843 1504.23,609.129 1524.94,595.414 1545.65,581.7 1566.36,567.985 1587.07,554.271 1607.78,540.556 1628.5,526.842 1649.21,513.127 1669.92,499.412 \n  1690.63,485.698 1711.34,471.983 1732.05,458.269 1752.76,444.554 1773.47,430.84 1794.18,417.125 1814.89,403.411 1835.6,389.696 1856.32,375.982 1877.03,362.267 \n  1897.74,348.553 1918.45,334.838 1939.16,321.123 1959.87,307.409 1980.58,293.694 2001.29,279.98 2022,266.265 2042.71,252.551 2063.42,238.836 2084.14,225.122 \n  2104.85,211.407 2125.56,197.693 2146.27,183.978 2166.98,170.264 2187.69,156.549 2208.4,142.834 2229.11,129.12 2249.82,115.405 2270.53,101.691 2291.24,87.9763 \n  \n  \"/>\n<path clip-path=\"url(#clip760)\" d=\"\nM1987.3 302.578 L2280.31 302.578 L2280.31 95.2176 L1987.3 95.2176  Z\n  \" fill=\"#ffffff\" fill-rule=\"evenodd\" fill-opacity=\"1\"/>\n<polyline clip-path=\"url(#clip760)\" style=\"stroke:#000000; stroke-linecap:butt; stroke-linejoin:round; stroke-width:4; stroke-opacity:1; fill:none\" points=\"\n  1987.3,302.578 2280.31,302.578 2280.31,95.2176 1987.3,95.2176 1987.3,302.578 \n  \"/>\n<polyline clip-path=\"url(#clip760)\" style=\"stroke:#009af9; stroke-linecap:butt; stroke-linejoin:round; stroke-width:4; stroke-opacity:1; fill:none\" points=\"\n  2011.3,147.058 2155.3,147.058 \n  \"/>\n<path clip-path=\"url(#clip760)\" d=\"M2193.14 166.745 Q2191.34 171.375 2189.62 172.787 Q2187.91 174.199 2185.04 174.199 L2181.64 174.199 L2181.64 170.634 L2184.14 170.634 Q2185.9 170.634 2186.87 169.8 Q2187.84 168.967 2189.02 165.865 L2189.79 163.921 L2179.3 138.412 L2183.81 138.412 L2191.92 158.689 L2200.02 138.412 L2204.53 138.412 L2193.14 166.745 Z\" fill=\"#000000\" fill-rule=\"evenodd\" fill-opacity=\"1\" /><path clip-path=\"url(#clip760)\" d=\"M2211.82 160.402 L2219.46 160.402 L2219.46 134.037 L2211.15 135.703 L2211.15 131.444 L2219.42 129.778 L2224.09 129.778 L2224.09 160.402 L2231.73 160.402 L2231.73 164.338 L2211.82 164.338 L2211.82 160.402 Z\" fill=\"#000000\" fill-rule=\"evenodd\" fill-opacity=\"1\" /><polyline clip-path=\"url(#clip760)\" style=\"stroke:#e26f46; stroke-linecap:butt; stroke-linejoin:round; stroke-width:4; stroke-opacity:1; fill:none\" points=\"\n  2011.3,198.898 2155.3,198.898 \n  \"/>\n<path clip-path=\"url(#clip760)\" d=\"M2193.14 218.585 Q2191.34 223.215 2189.62 224.627 Q2187.91 226.039 2185.04 226.039 L2181.64 226.039 L2181.64 222.474 L2184.14 222.474 Q2185.9 222.474 2186.87 221.64 Q2187.84 220.807 2189.02 217.705 L2189.79 215.761 L2179.3 190.252 L2183.81 190.252 L2191.92 210.529 L2200.02 190.252 L2204.53 190.252 L2193.14 218.585 Z\" fill=\"#000000\" fill-rule=\"evenodd\" fill-opacity=\"1\" /><path clip-path=\"url(#clip760)\" d=\"M2215.04 212.242 L2231.36 212.242 L2231.36 216.178 L2209.42 216.178 L2209.42 212.242 Q2212.08 209.488 2216.66 204.858 Q2221.27 200.205 2222.45 198.863 Q2224.69 196.34 2225.57 194.604 Q2226.48 192.844 2226.48 191.155 Q2226.48 188.4 2224.53 186.664 Q2222.61 184.928 2219.51 184.928 Q2217.31 184.928 2214.86 185.692 Q2212.42 186.455 2209.65 188.006 L2209.65 183.284 Q2212.47 182.15 2214.92 181.571 Q2217.38 180.993 2219.42 180.993 Q2224.79 180.993 2227.98 183.678 Q2231.17 186.363 2231.17 190.854 Q2231.17 192.983 2230.36 194.905 Q2229.58 196.803 2227.47 199.395 Q2226.89 200.067 2223.79 203.284 Q2220.69 206.479 2215.04 212.242 Z\" fill=\"#000000\" fill-rule=\"evenodd\" fill-opacity=\"1\" /><polyline clip-path=\"url(#clip760)\" style=\"stroke:#3da44d; stroke-linecap:butt; stroke-linejoin:round; stroke-width:4; stroke-opacity:1; fill:none\" stroke-dasharray=\"16, 10\" points=\"\n  2011.3,250.738 2155.3,250.738 \n  \"/>\n<path clip-path=\"url(#clip760)\" d=\"M2193.14 270.425 Q2191.34 275.055 2189.62 276.467 Q2187.91 277.879 2185.04 277.879 L2181.64 277.879 L2181.64 274.314 L2184.14 274.314 Q2185.9 274.314 2186.87 273.48 Q2187.84 272.647 2189.02 269.545 L2189.79 267.601 L2179.3 242.092 L2183.81 242.092 L2191.92 262.369 L2200.02 242.092 L2204.53 242.092 L2193.14 270.425 Z\" fill=\"#000000\" fill-rule=\"evenodd\" fill-opacity=\"1\" /><path clip-path=\"url(#clip760)\" d=\"M2225.18 249.383 Q2228.54 250.101 2230.41 252.369 Q2232.31 254.638 2232.31 257.971 Q2232.31 263.087 2228.79 265.888 Q2225.27 268.689 2218.79 268.689 Q2216.61 268.689 2214.3 268.249 Q2212.01 267.832 2209.55 266.976 L2209.55 262.462 Q2211.5 263.596 2213.81 264.175 Q2216.13 264.754 2218.65 264.754 Q2223.05 264.754 2225.34 263.018 Q2227.66 261.281 2227.66 257.971 Q2227.66 254.916 2225.5 253.203 Q2223.37 251.467 2219.55 251.467 L2215.53 251.467 L2215.53 247.624 L2219.74 247.624 Q2223.19 247.624 2225.02 246.258 Q2226.85 244.87 2226.85 242.277 Q2226.85 239.615 2224.95 238.203 Q2223.07 236.768 2219.55 236.768 Q2217.63 236.768 2215.43 237.184 Q2213.24 237.601 2210.6 238.481 L2210.6 234.314 Q2213.26 233.573 2215.57 233.203 Q2217.91 232.833 2219.97 232.833 Q2225.3 232.833 2228.4 235.263 Q2231.5 237.67 2231.5 241.791 Q2231.5 244.661 2229.86 246.652 Q2228.21 248.62 2225.18 249.383 Z\" fill=\"#000000\" fill-rule=\"evenodd\" fill-opacity=\"1\" /></svg>\n"
     },
     "execution_count": 5,
     "metadata": {},
     "output_type": "execute_result"
    }
   ],
   "source": [
    "plot(log10.(kap), log10.(errs))\n",
    "plot!(log10.(kap), log10.(res))\n",
    "\n",
    "#plot!(log10.(kap), -15*ones(length(kap)) + 2*log10.(kap), linestyle = :dash)\n",
    "plot!(log10.(kap), -15*ones(length(kap)) + log10.(kap), linestyle = :dash)"
   ]
  },
  {
   "cell_type": "markdown",
   "metadata": {},
   "source": [
    "### Problem 3\n",
    "\n",
    "This notebook walks through stage (i) of the QZ algorithm. Here are our test matrices $A$ and $B$."
   ]
  },
  {
   "cell_type": "code",
   "execution_count": 6,
   "metadata": {},
   "outputs": [
    {
     "data": {
      "text/plain": [
       "5×5 Matrix{Float64}:\n",
       " 0.983606  0.344959  0.884078  0.712777  0.574054\n",
       " 0.19869   0.28206   0.607912  0.503201  0.739231\n",
       " 0.584267  0.641084  0.211871  0.238809  0.823153\n",
       " 0.95831   0.940691  0.786385  0.172457  0.999495\n",
       " 0.185496  0.989791  0.113607  0.921889  0.832411"
      ]
     },
     "metadata": {},
     "output_type": "display_data"
    },
    {
     "data": {
      "text/plain": [
       "5×5 Matrix{Float64}:\n",
       " 0.660378  0.313957  0.0353686  0.96814   0.766373\n",
       " 0.382204  0.96719   0.816787   0.234952  0.481904\n",
       " 0.188105  0.583342  0.112909   0.393121  0.487283\n",
       " 0.32888   0.647862  0.0990184  0.807656  0.744365\n",
       " 0.205912  0.557143  0.525649   0.834802  0.593981"
      ]
     },
     "metadata": {},
     "output_type": "display_data"
    }
   ],
   "source": [
    "using LinearAlgebra\n",
    "\n",
    "n = 5\n",
    "A = rand(n,n)\n",
    "B = rand(n,n)\n",
    "display(A)\n",
    "display(B)"
   ]
  },
  {
   "cell_type": "markdown",
   "metadata": {},
   "source": [
    "We'll be using Householder transformations throughout, so here is the code that calculates and applies Householder transformations, taken from the implicit_QR notebook in the course notes."
   ]
  },
  {
   "cell_type": "code",
   "execution_count": 7,
   "metadata": {},
   "outputs": [
    {
     "data": {
      "text/plain": [
       "hhtRight (generic function with 1 method)"
      ]
     },
     "execution_count": 7,
     "metadata": {},
     "output_type": "execute_result"
    }
   ],
   "source": [
    "# get reflector for Householder transformation\n",
    "function reflector( x )\n",
    "    v = zeros(length(x))\n",
    "    v[1] = sign(x[1]) * norm(x) + x[1]\n",
    "    v[2:end] = x[2:end] \n",
    "    v = v / norm(v)\n",
    "    return v\n",
    "end\n",
    "\n",
    "# apply Householder transformation to A from left, i.e., QA = (I-vv')A \n",
    "function hhtLeft( A, v)\n",
    "    return A - 2 * v * (transpose(v) * A)\n",
    "end\n",
    "\n",
    "# apply Householder transformation to A from right, i.e., AQ = A(I-vv') \n",
    "function hhtRight( A, v)\n",
    "    return A - 2 * (A * v) * transpose(v)\n",
    "end"
   ]
  },
  {
   "cell_type": "markdown",
   "metadata": {},
   "source": [
    "### Part (a)\n",
    "\n",
    "First, we need to apply Householder transformations on the left of $A$ and $B$ with the goal of triangularizing $B$. We can accomplish this using Householder QR to compute $R = Q^TB$, and then applying the same transformation to $A$. Note that we always need to apply the same orthogonal transformations to $A$ and $B$ so that the generalized eigenvalues don't change: if $Av=\\lambda Bv$ then $Q^TA= \\lambda Q^TBv =\\lambda Rv$."
   ]
  },
  {
   "cell_type": "code",
   "execution_count": 8,
   "metadata": {},
   "outputs": [
    {
     "data": {
      "text/plain": [
       "5×5 Matrix{Float64}:\n",
       " -0.876427  -1.15756   -0.567734  -1.41552   -1.31107\n",
       "  0.0       -0.874361  -0.648227  -0.126177  -0.327661\n",
       "  0.0        0.0        0.474059  -0.202744  -0.200541\n",
       "  0.0        0.0        0.0       -0.659932  -0.312059\n",
       "  0.0        0.0        0.0        0.0        0.00595277"
      ]
     },
     "metadata": {},
     "output_type": "display_data"
    },
    {
     "data": {
      "text/plain": [
       "5×5 Matrix{Float64}:\n",
       " -1.35637     -1.10606    -1.29851    -1.08907   -1.50222\n",
       "  0.00465366  -0.726978   -0.0672387  -0.245283  -0.855237\n",
       " -0.657301    -0.360292   -0.192977    0.395615  -0.32419\n",
       " -0.158841    -0.769571    0.111639   -0.482938  -0.386596\n",
       " -0.0636694    0.0144591  -0.294969    0.24885    0.0532052"
      ]
     },
     "metadata": {},
     "output_type": "display_data"
    },
    {
     "data": {
      "text/plain": [
       "5×2 Matrix{ComplexF64}:\n",
       " -20.6371+0.0im      -20.6371+0.0im\n",
       " -1.54779+0.0im      -1.54779+0.0im\n",
       "  1.10013+0.0im       1.10013+0.0im\n",
       "  1.39326-1.27139im   1.39326+1.27139im\n",
       "  1.39326+1.27139im   1.39326-1.27139im"
      ]
     },
     "execution_count": 8,
     "metadata": {},
     "output_type": "execute_result"
    }
   ],
   "source": [
    "# Householder QR using LinearAlgebra.QR\n",
    "QR = qr(B)\n",
    "R = QR.R \n",
    "AA=QR.Q'*A\n",
    "\n",
    "# check structure of R and Q'*A\n",
    "display(R)\n",
    "display(AA)\n",
    "\n",
    "# check that generalized eigenvalues haven't changed\n",
    "[eigen(AA,R).values eigen(A,B).values]"
   ]
  },
  {
   "cell_type": "markdown",
   "metadata": {},
   "source": [
    "Householder QR triangularizes $B$ one column at a time, from left to right: see Lecture 10 in the textbook for the diagrams. The matrix $A$ generically remains dense, as no strategic new zeros are introduced (and any preexisting zeros in $A$ may be destroyed by applying $Q^T$).\n",
    "\n"
   ]
  },
  {
   "cell_type": "markdown",
   "metadata": {},
   "source": [
    "### Part (b)\n",
    "\n",
    "Now, the challenge is to apply a further sequence of Householder transformations on the left and the right of $B$ to reduce $A$ to upper Hessenberg form while keeping $B$ upper triangular. Again, the same transformations applied to the left or right of $A$ need to be applied to $B$ to preserve the generalized eigenvalues: if $Av = \\lambda Bv$, then $AQw = \\lambda BQw$ where $v=Qw$.\n",
    "\n",
    "Let's begin transforming $Q^TA$ to upper Hessenberg form by introducing zeros in its first column. We'll  use a $2\\times 2$ Householder transformation from the left that mixes the last two rows of $R$. When we apply the same transformations to $R$, one nonzero appears below the diagonal in the second to last column."
   ]
  },
  {
   "cell_type": "code",
   "execution_count": 9,
   "metadata": {},
   "outputs": [
    {
     "data": {
      "text/plain": [
       "5×5 Matrix{Float64}:\n",
       " -1.35637     -1.10606   -1.29851     -1.08907   -1.50222\n",
       "  0.00465366  -0.726978  -0.0672387   -0.245283  -0.855237\n",
       " -0.657301    -0.360292  -0.192977     0.395615  -0.32419\n",
       "  0.171126     0.708942   0.00612167   0.355679   0.339046\n",
       "  0.0          0.299748  -0.315329     0.410667   0.193223"
      ]
     },
     "metadata": {},
     "output_type": "display_data"
    },
    {
     "data": {
      "text/plain": [
       "5×5 Matrix{Float64}:\n",
       " -0.876427  -1.15756   -0.567734  -1.41552   -1.31107\n",
       "  0.0       -0.874361  -0.648227  -0.126177  -0.327661\n",
       "  0.0        0.0        0.474059  -0.202744  -0.200541\n",
       "  0.0        0.0        0.0        0.612554   0.287441\n",
       "  0.0        0.0        0.0        0.245535   0.12163"
      ]
     },
     "metadata": {},
     "output_type": "display_data"
    }
   ],
   "source": [
    "# copy matrices to new cell block - looks weird but is a quick fix for a display issue\n",
    "R = copy(R)\n",
    "H = copy(AA)\n",
    "\n",
    "# orthogonal transforms from the left introduces zeros in first column below first subdiagonal of Q'*A\n",
    "v = reflector(H[end-1:end,1])\n",
    "H[end-1:end,:] = hhtLeft(H[end-1:end,:], v)\n",
    "R[end-1:end,:] = hhtLeft(R[end-1:end,:], v)\n",
    "\n",
    "display(H)\n",
    "display(R)"
   ]
  },
  {
   "cell_type": "markdown",
   "metadata": {},
   "source": [
    "We have successfully introduced a zero in the bottom left corner of $Q^TA$, but a nonzero has appeared below the second to last diagonal entry of $R$. We can apply a $2\\times 2$ Householder transformation from the left that mixes the last two columns to eliminate this subdiagonal entry. When we apply the same transformation to $Q^TA$, the zero we introduced during the previous transformation from the right is not affected because we only mix the last two columns."
   ]
  },
  {
   "cell_type": "code",
   "execution_count": 10,
   "metadata": {},
   "outputs": [
    {
     "data": {
      "text/plain": [
       "5×5 Matrix{Float64}:\n",
       " -1.35637     -1.10606   -1.29851      0.86268      1.64272\n",
       "  0.00465366  -0.726978  -0.0672387    0.657482     0.599425\n",
       " -0.657301    -0.360292  -0.192977     0.46611     -0.210598\n",
       "  0.171126     0.708942   0.00612167  -0.14593     -0.469217\n",
       "  0.0          0.299748  -0.315329     0.00914832  -0.453761"
      ]
     },
     "metadata": {},
     "output_type": "display_data"
    },
    {
     "data": {
      "text/plain": [
       "5×5 Matrix{Float64}:\n",
       " -0.876427  -1.15756   -0.567734  0.546485      1.8504\n",
       "  0.0       -0.874361  -0.648227  0.237602      0.258511\n",
       "  0.0        0.0        0.474059  0.0897052     0.270693\n",
       "  0.0        0.0        0.0       0.0143368    -0.676491\n",
       "  0.0        0.0        0.0       2.77556e-17  -0.27401"
      ]
     },
     "metadata": {},
     "output_type": "display_data"
    }
   ],
   "source": [
    "# copy matrices to new cell block - looks weird but is a quick fix for a display issue\n",
    "R = copy(R)\n",
    "H = copy(H)\n",
    "\n",
    "# orthogonal transform form left restores upper triangular structure in R w/out affecting new zeros in Q^TA\n",
    "v = reflector(reverse(transpose(R[end,end-1:end])))\n",
    "H[:,end-1:end] = hhtRight(H[:,end-1:end], reverse(v))\n",
    "R[:,end-1:end] = hhtRight(R[:,end-1:end], reverse(v))\n",
    "\n",
    "display(H)\n",
    "display(R)"
   ]
  },
  {
   "cell_type": "markdown",
   "metadata": {},
   "source": [
    "Let's introduce the next zero in the first column of $Q^TA$ with another $2\\times 2$ Householder transformation."
   ]
  },
  {
   "cell_type": "code",
   "execution_count": 11,
   "metadata": {},
   "outputs": [
    {
     "data": {
      "text/plain": [
       "5×5 Matrix{Float64}:\n",
       " -1.35637     -1.10606   -1.29851     0.86268      1.64272\n",
       "  0.00465366  -0.726978  -0.0672387   0.657482     0.599425\n",
       "  0.679212     0.527286   0.188294   -0.48784      0.0855865\n",
       "  0.0          0.595298  -0.042696   -0.0237863   -0.50714\n",
       "  0.0          0.299748  -0.315329    0.00914832  -0.453761"
      ]
     },
     "metadata": {},
     "output_type": "display_data"
    },
    {
     "data": {
      "text/plain": [
       "5×5 Matrix{Float64}:\n",
       " -0.876427  -1.15756   -0.567734   0.546485      1.8504\n",
       "  0.0       -0.874361  -0.648227   0.237602      0.258511\n",
       "  0.0        0.0       -0.458766  -0.0831993    -0.432402\n",
       "  0.0        0.0        0.119438   0.0364754    -0.586467\n",
       "  0.0        0.0        0.0        2.77556e-17  -0.27401"
      ]
     },
     "metadata": {},
     "output_type": "display_data"
    }
   ],
   "source": [
    "# copy matrices to new cell block - looks weird but is a quick fix for a display issue\n",
    "R = copy(R)\n",
    "H = copy(H)\n",
    "\n",
    "# orthogonal transforms from the left introduces zeros in first column below first subdiagonal of Q'*A\n",
    "v = reflector(H[end-2:end-1,1])\n",
    "H[end-2:end-1,:] = hhtLeft(H[end-2:end-1,:], v)\n",
    "R[end-2:end-1,:] = hhtLeft(R[end-2:end-1,:], v)\n",
    "\n",
    "display(H)\n",
    "display(R)"
   ]
  },
  {
   "cell_type": "markdown",
   "metadata": {},
   "source": [
    "Mixing the 2nd and 3rd from last rows of $R$ introduces another nonzero belwow the diagonal, this time in the column 3rd from last. We can apply a $2\\times 2$ Householder from the left that mixes the 2nd and 3rd from last columns to zero this entry out, without effecting the zeros in the first column of $Q^TA$."
   ]
  },
  {
   "cell_type": "code",
   "execution_count": 12,
   "metadata": {},
   "outputs": [
    {
     "data": {
      "text/plain": [
       "5×5 Matrix{Float64}:\n",
       " -1.35637     -1.10606   -1.20432     0.989917    1.64272\n",
       "  0.00465366  -0.726978  -0.648452   -0.127727    0.599425\n",
       "  0.679212     0.527286   0.521564   -0.0375978   0.0855865\n",
       "  0.0          0.595298   0.0102787   0.0477817  -0.50714\n",
       "  0.0          0.299748  -0.100849    0.298907   -0.453761"
      ]
     },
     "metadata": {},
     "output_type": "display_data"
    },
    {
     "data": {
      "text/plain": [
       "5×5 Matrix{Float64}:\n",
       " -0.876427  -1.15756   -0.688477      0.383363     1.8504\n",
       "  0.0       -0.874361  -0.416572      0.550564     0.258511\n",
       "  0.0        0.0       -0.0544225     0.463062    -0.432402\n",
       "  0.0        0.0        0.0          -0.124884    -0.586467\n",
       "  0.0        0.0       -2.65453e-17  -8.1067e-18  -0.27401"
      ]
     },
     "metadata": {},
     "output_type": "display_data"
    }
   ],
   "source": [
    "# copy matrices to new cell block - looks weird but is a quick fix for a display issue\n",
    "R = copy(R)\n",
    "H = copy(H)\n",
    "\n",
    "# orthogonal transform form left restores upper triangular structure in R w/out affecting new zeros in Q^TA\n",
    "v = reflector(reverse(transpose(R[end-1,end-2:end-1])))\n",
    "H[:,end-2:end-1] = hhtRight(H[:,end-2:end-1], reverse(v))\n",
    "R[:,end-2:end-1] = hhtRight(R[:,end-2:end-1], reverse(v))\n",
    "\n",
    "display(H)\n",
    "display(R)"
   ]
  },
  {
   "cell_type": "markdown",
   "metadata": {},
   "source": [
    "We can continue in this manner moving up along the first column introducing zeros in $Q^TA$ with a $2\\times 2$ Householder transformation on the left, and then eliminating the corresponding nonzero entries introduced in $R$ with a $2\\times 2$ Householder transformation applied from the right."
   ]
  },
  {
   "cell_type": "code",
   "execution_count": 13,
   "metadata": {},
   "outputs": [
    {
     "data": {
      "text/plain": [
       "5×5 Matrix{Float64}:\n",
       " -1.35637    0.612035   1.51631   0.989917    1.64272\n",
       " -0.679228   0.242432   0.693843  0.038472   -0.0896914\n",
       "  0.0       -0.274719  -0.939885  0.127467   -0.598825\n",
       "  0.0        0.246576  -0.541927  0.0477817  -0.50714\n",
       "  0.0        0.21989   -0.227306  0.298907   -0.453761"
      ]
     },
     "metadata": {},
     "output_type": "display_data"
    },
    {
     "data": {
      "text/plain": [
       "5×5 Matrix{Float64}:\n",
       " -0.876427   0.12413       1.34109       0.383363     1.8504\n",
       "  0.0       -0.0491406    -0.0300258    -0.466823     0.43062\n",
       "  0.0        2.22045e-16  -0.968341     -0.547378    -0.261467\n",
       "  0.0        0.0           0.0          -0.124884    -0.586467\n",
       "  0.0        2.39684e-17   1.14091e-17  -8.1067e-18  -0.27401"
      ]
     },
     "metadata": {},
     "output_type": "display_data"
    }
   ],
   "source": [
    "R = copy(R)\n",
    "H = copy(H)\n",
    "\n",
    "for j = 3:n-2\n",
    "    # orthogonal transforms from the left introduces zeros in first column below first subdiagonal of Q'*A\n",
    "    v = reflector(H[end-j:end-j+1,1])\n",
    "    H[end-j:end-j+1,:] = hhtLeft(H[end-j:end-j+1,:], v)\n",
    "    R[end-j:end-j+1,:] = hhtLeft(R[end-j:end-j+1,:], v)\n",
    "\n",
    "    # orthogonal transform form left restores upper triangular structure in R w/out affecting new zeros in Q^TA\n",
    "    v = reflector(reverse(transpose(R[end-j+1,end-j:end-j+1])))\n",
    "    H[:,end-j:end-j+1] = hhtRight(H[:,end-j:end-j+1], reverse(v))\n",
    "    R[:,end-j:end-j+1] = hhtRight(R[:,end-j:end-j+1], reverse(v))\n",
    "end\n",
    "display(H)\n",
    "display(R)\n",
    "\n"
   ]
  },
  {
   "cell_type": "markdown",
   "metadata": {},
   "source": [
    "Once all but the first two entries in the first column of $Q^TA$ are zero, and $R$ has been transformed to a new triangular matrix, we can repeat the process for each column until $Q^TA$ has been transformed to upper Hessenberg  form and $R$ has been transformed to yet another new triangular matrix."
   ]
  },
  {
   "cell_type": "code",
   "execution_count": 14,
   "metadata": {},
   "outputs": [
    {
     "data": {
      "text/plain": [
       "5×5 Matrix{Float64}:\n",
       " -1.35637    0.612035      0.158155   -0.799557   2.30507\n",
       " -0.679228   0.242432      0.106076   -0.671727   0.168743\n",
       "  0.0        0.429676     -0.0988813  -0.222836  -0.0138793\n",
       "  0.0        4.70819e-17  -0.85406     0.568485  -0.943163\n",
       "  0.0       -6.28193e-17   0.0        -0.273364   0.28599"
      ]
     },
     "metadata": {},
     "output_type": "display_data"
    },
    {
     "data": {
      "text/plain": [
       "5×5 Matrix{Float64}:\n",
       " -0.876427   0.12413       0.731568     -0.507174      2.1394\n",
       "  0.0       -0.0491406     0.574797      0.238677      0.130006\n",
       "  0.0       -1.29701e-16  -0.21151      -0.711645      0.0738086\n",
       "  0.0        1.81639e-16   1.1211e-16    0.481358     -0.919804\n",
       "  0.0       -7.93891e-18  -3.14519e-19  -1.38778e-17   0.325463"
      ]
     },
     "metadata": {},
     "output_type": "display_data"
    }
   ],
   "source": [
    "R = copy(R)\n",
    "H = copy(H)\n",
    "\n",
    "for k = 2:n-2           # for each column (left to right)...\n",
    "    for j = 1:n-k-1      # for each row (bottom to first subdiagonal)...\n",
    "        # orthogonal transforms from the left introduces zeros in first column below first subdiagonal of Q'*A\n",
    "        v = reflector(H[end-j:end-j+1,k])\n",
    "        H[end-j:end-j+1,:] = hhtLeft(H[end-j:end-j+1,:], v)\n",
    "        R[end-j:end-j+1,:] = hhtLeft(R[end-j:end-j+1,:], v)\n",
    "\n",
    "        # orthogonal transform form left restores upper triangular structure in R w/out affecting new zeros in Q^TA\n",
    "        v = reflector(reverse(transpose(R[end-j+1,end-j:end-j+1])))\n",
    "        H[:,end-j:end-j+1] = hhtRight(H[:,end-j:end-j+1], reverse(v))\n",
    "        R[:,end-j:end-j+1] = hhtRight(R[:,end-j:end-j+1], reverse(v))\n",
    "    end\n",
    "end\n",
    "display(H)\n",
    "display(R)"
   ]
  },
  {
   "cell_type": "markdown",
   "metadata": {},
   "source": [
    "We can now collect the full code for stage (i) into a function and run it on a larger test problem."
   ]
  },
  {
   "cell_type": "code",
   "execution_count": 15,
   "metadata": {},
   "outputs": [
    {
     "data": {
      "text/plain": [
       "2.5425531363828366e-15"
      ]
     },
     "metadata": {},
     "output_type": "display_data"
    },
    {
     "data": {
      "text/plain": [
       "2.7857504427938805e-15"
      ]
     },
     "metadata": {},
     "output_type": "display_data"
    },
    {
     "data": {
      "text/plain": [
       "25×2 Matrix{ComplexF64}:\n",
       "   -4.86971+0.0im          -4.86971+0.0im\n",
       "   -2.43084-4.14648im      -2.43084-4.14648im\n",
       "   -2.43084+4.14648im      -2.43084+4.14648im\n",
       "   -1.73682+0.0im          -1.73682+0.0im\n",
       "  -0.987751-1.94593im     -0.987751-1.94593im\n",
       "  -0.987751+1.94593im     -0.987751+1.94593im\n",
       "  -0.736296+0.0im         -0.736296+0.0im\n",
       "  -0.423759+0.0im         -0.423759+0.0im\n",
       "  -0.240823-0.195608im    -0.240823-0.195608im\n",
       "  -0.240823+0.195608im    -0.240823+0.195608im\n",
       "  -0.134334-0.396547im    -0.134334+0.396547im\n",
       "  -0.134334+0.396547im    -0.134334-0.396547im\n",
       " -0.0499163-0.616188im   -0.0499163-0.616188im\n",
       " -0.0499163+0.616188im   -0.0499163+0.616188im\n",
       "   0.448781-0.266889im     0.448781+0.266889im\n",
       "   0.448781+0.266889im     0.448781-0.266889im\n",
       "   0.594705-0.387075im     0.594705-0.387075im\n",
       "   0.594705+0.387075im     0.594705+0.387075im\n",
       "   0.704839-1.0967im       0.704839-1.0967im\n",
       "   0.704839+1.0967im       0.704839+1.0967im\n",
       "   0.871932-0.0840992im    0.871932-0.0840992im\n",
       "   0.871932+0.0840992im    0.871932+0.0840992im\n",
       "    1.42117-0.108996im      1.42117-0.108996im\n",
       "    1.42117+0.108996im      1.42117+0.108996im\n",
       "    3.86572+0.0im           3.86572+0.0im"
      ]
     },
     "metadata": {},
     "output_type": "display_data"
    }
   ],
   "source": [
    "# reduce A and B to upper Hessenberg and triangular form by Householder reflections for QZ stage (i)\n",
    "function stage1QZ( A, B)\n",
    "    \n",
    "    # Part (a), triangularize B and apply the orthogonal transform to A\n",
    "    QR = qr(B)\n",
    "    R = QR.R \n",
    "    H=QR.Q'*A\n",
    "\n",
    "    # Part (b), reduce Q^TA to Hessenberg while maintaining triangular form of R\n",
    "    for k = 1:n-2           # for each column (left to right)...\n",
    "        for j = 1:n-k-1      # for each row (bottom to first subdiagonal)...\n",
    "            # orthogonal transforms from the left introduces zeros in first column below first subdiagonal of Q'*A\n",
    "            v = reflector(H[end-j:end-j+1,k])\n",
    "            H[end-j:end-j+1,:] = hhtLeft(H[end-j:end-j+1,:], v)\n",
    "            R[end-j:end-j+1,:] = hhtLeft(R[end-j:end-j+1,:], v)\n",
    "    \n",
    "            # orthogonal transform form left restores upper triangular structure in R w/out affecting new zeros in Q^TA\n",
    "            v = reflector(reverse(transpose(R[end-j+1,end-j:end-j+1])))\n",
    "            H[:,end-j:end-j+1] = hhtRight(H[:,end-j:end-j+1], reverse(v))\n",
    "            R[:,end-j:end-j+1] = hhtRight(R[:,end-j:end-j+1], reverse(v))\n",
    "        end\n",
    "    end\n",
    "\n",
    "    # Return upper Hessenberg and triangular factors\n",
    "    return (H,R)\n",
    "end\n",
    "\n",
    "# new test matrices\n",
    "n = 25\n",
    "A = rand(n,n)\n",
    "B = rand(n,n)\n",
    "H, R = stage1QZ( A, B)\n",
    "\n",
    "# check structure of H and R (norm of departure from upper Hessenberg and upper triangular)\n",
    "display(norm(UpperHessenberg(H)-H))\n",
    "display(norm(UpperTriangular(R)-R))\n",
    "\n",
    "# check generalized eigenvalues are preserved\n",
    "display([eigen(A,B).values eigen(H,R).values])\n",
    "\n"
   ]
  }
 ],
 "metadata": {
  "@webio": {
   "lastCommId": null,
   "lastKernelId": null
  },
  "kernelspec": {
   "display_name": "Julia 1.6.3",
   "language": "julia",
   "name": "julia-1.6"
  },
  "language_info": {
   "file_extension": ".jl",
   "mimetype": "application/julia",
   "name": "julia",
   "version": "1.6.3"
  }
 },
 "nbformat": 4,
 "nbformat_minor": 1
}
